{
 "cells": [
  {
   "cell_type": "markdown",
   "id": "cc1985a8",
   "metadata": {},
   "source": [
    "Define a function named is_two. It should accept one input and return True if the passed input is either the number or the string 2, False otherwise."
   ]
  },
  {
   "cell_type": "code",
   "execution_count": 11,
   "id": "6d6ada08",
   "metadata": {},
   "outputs": [
    {
     "data": {
      "text/plain": [
       "False"
      ]
     },
     "execution_count": 11,
     "metadata": {},
     "output_type": "execute_result"
    }
   ],
   "source": [
    "def is_two(x):\n",
    "    return x == '2' or x == 2\n",
    "\n",
    "is_two(5)"
   ]
  },
  {
   "cell_type": "markdown",
   "id": "064f41da",
   "metadata": {},
   "source": [
    "Define a function named is_vowel. It should return True if the passed string is a vowel, False otherwise."
   ]
  },
  {
   "cell_type": "code",
   "execution_count": 30,
   "id": "1cc6fbd2",
   "metadata": {},
   "outputs": [
    {
     "data": {
      "text/plain": [
       "False"
      ]
     },
     "execution_count": 30,
     "metadata": {},
     "output_type": "execute_result"
    }
   ],
   "source": [
    "def is_vowel(x):\n",
    "    vowel = ['a', 'e', 'i', 'o', 'u']\n",
    "    return x.lower() in vowel\n",
    "is_vowel('b')"
   ]
  },
  {
   "cell_type": "markdown",
   "id": "92c0faea",
   "metadata": {},
   "source": [
    "Define a function named is_consonant. It should return True if the passed string is a consonant, False otherwise. Use your is_vowel function to accomplish this.\n"
   ]
  },
  {
   "cell_type": "code",
   "execution_count": 42,
   "id": "10a222b7",
   "metadata": {},
   "outputs": [
    {
     "data": {
      "text/plain": [
       "True"
      ]
     },
     "execution_count": 42,
     "metadata": {},
     "output_type": "execute_result"
    }
   ],
   "source": [
    "def is_consonant(x):\n",
    "    return is_vowel(x) == False and type(x) == str\n",
    "is_consonant('p')"
   ]
  },
  {
   "cell_type": "markdown",
   "id": "7ebdd701",
   "metadata": {},
   "source": [
    "Define a function that accepts a string that is a word. The function should capitalize the first letter of the word if the word starts with a consonant.\n"
   ]
  },
  {
   "cell_type": "code",
   "execution_count": 50,
   "id": "34cde8c0",
   "metadata": {},
   "outputs": [
    {
     "data": {
      "text/plain": [
       "'Chris'"
      ]
     },
     "execution_count": 50,
     "metadata": {},
     "output_type": "execute_result"
    }
   ],
   "source": [
    "def cap(x):\n",
    "    if is_consonant(x[0]) and type(x) == str:\n",
    "        return x.capitalize()\n",
    "cap('chris')"
   ]
  },
  {
   "cell_type": "code",
   "execution_count": 51,
   "id": "2fc75cc0",
   "metadata": {},
   "outputs": [
    {
     "name": "stdout",
     "output_type": "stream",
     "text": [
      "<function is_consonant at 0x105e14ea0>\n"
     ]
    }
   ],
   "source": [
    "print(is_consonant)"
   ]
  },
  {
   "cell_type": "markdown",
   "id": "e6d06073",
   "metadata": {},
   "source": [
    "Define a function named calculate_tip. It should accept a tip percentage (a number between 0 and 1) and the bill total, and return the amount to tip.\n"
   ]
  },
  {
   "cell_type": "code",
   "execution_count": 69,
   "id": "eaeb122e",
   "metadata": {},
   "outputs": [
    {
     "name": "stdout",
     "output_type": "stream",
     "text": [
      "what percentage of tip would you like to leave : %18\n",
      "what was the total 25.25\n",
      "leave $4.545 as a tip\n"
     ]
    }
   ],
   "source": [
    "tip_percent = input('what percentage of tip would you like to leave : %')\n",
    "total_cost = input('what was the total ')\n",
    "\n",
    "def calculate_tip(tip, total):\n",
    "    tip = int(tip_percent) / 100\n",
    "    total_tip = float(total) * float(tip)\n",
    "    return print(f'leave ${total_tip} as a tip')\n",
    "\n",
    "\n",
    "calculate_tip(tip_percent,total_cost)"
   ]
  },
  {
   "cell_type": "markdown",
   "id": "649462f3",
   "metadata": {},
   "source": [
    "Define a function named apply_discount. It should accept a original price, and a discount percentage, and return the price after the discount is applied.\n"
   ]
  },
  {
   "cell_type": "code",
   "execution_count": 76,
   "id": "ec82c193",
   "metadata": {},
   "outputs": [
    {
     "name": "stdout",
     "output_type": "stream",
     "text": [
      "whats is the total price105\n",
      "what is the discount15\n",
      "total after discount is $89.25\n"
     ]
    }
   ],
   "source": [
    "original_price = float(input('whats is the total price'))\n",
    "discount_percentage = float(input('what is the discount'))\n",
    "\n",
    "def apply_discount(tot,disc):\n",
    "    disc = discount_percentage / 100\n",
    "    tot = original_price * float(disc)\n",
    "    new_price = original_price - float(tot)\n",
    "    return print(f'total after discount is ${new_price}')\n",
    "    \n",
    "    \n",
    "apply_discount(original_price, discount_percentage)\n",
    "    "
   ]
  },
  {
   "cell_type": "markdown",
   "id": "3e945296",
   "metadata": {},
   "source": [
    "Define a function named handle_commas. It should accept a string that is a number that contains commas in it as input, and return a number as output.\n",
    "\n"
   ]
  },
  {
   "cell_type": "code",
   "execution_count": 77,
   "id": "f96e4c16",
   "metadata": {},
   "outputs": [
    {
     "name": "stdout",
     "output_type": "stream",
     "text": [
      "give me a number greater than 1,0001,240\n"
     ]
    },
    {
     "data": {
      "text/plain": [
       "'1240'"
      ]
     },
     "execution_count": 77,
     "metadata": {},
     "output_type": "execute_result"
    }
   ],
   "source": [
    "large_num = input('give me a number greater than 1,000')\n",
    "\n",
    "def handle_commas(x):\n",
    "    return x.replace(',', '')\n",
    "\n",
    "handle_commas(large_num)"
   ]
  },
  {
   "cell_type": "markdown",
   "id": "bbfecb13",
   "metadata": {},
   "source": [
    "Define a function named get_letter_grade. It should accept a number and return the letter grade associated with that number (A-F).\n"
   ]
  },
  {
   "cell_type": "code",
   "execution_count": 82,
   "id": "90f155c9",
   "metadata": {},
   "outputs": [
    {
     "name": "stdout",
     "output_type": "stream",
     "text": [
      "what # grade did u get 1-100 94\n",
      "A\n"
     ]
    }
   ],
   "source": [
    "grade = int(input('what # grade did u get 1-100 '))\n",
    "def get_letter_grade(x):\n",
    "    if grade >= 90:\n",
    "        print('A')\n",
    "    elif grade >= 80:\n",
    "        print('B')\n",
    "    elif grade >= 70:\n",
    "        print('C')\n",
    "    elif grade >= 60:\n",
    "        print('D')\n",
    "    elif grade >= 0:\n",
    "        print(\"F\")\n",
    "    else:\n",
    "        print('invalid input')\n",
    "get_letter_grade(grade)"
   ]
  },
  {
   "cell_type": "markdown",
   "id": "041b1a90",
   "metadata": {},
   "source": [
    "Define a function named remove_vowels that accepts a string and returns a string with all the vowels removed.\n"
   ]
  },
  {
   "cell_type": "code",
   "execution_count": 89,
   "id": "6a9bfd89",
   "metadata": {},
   "outputs": [
    {
     "name": "stdout",
     "output_type": "stream",
     "text": [
      "What would you like to remove the vowels from? hello\n",
      "hll\n"
     ]
    }
   ],
   "source": [
    "def remove_vowels(x):\n",
    "    vowels = ['a', 'e', 'i', 'o', 'u', 'A', 'E', 'I', 'O', 'U']\n",
    "    for vowel in vowels:\n",
    "        x = x.replace(vowel, '')\n",
    "    return x\n",
    "\n",
    "string = input('What would you like to remove the vowels from? ')\n",
    "print(remove_vowels(string))\n"
   ]
  },
  {
   "cell_type": "markdown",
   "id": "51b5ef08",
   "metadata": {},
   "source": [
    "Define a function named normalize_name. It should accept a string and return a valid python identifier, that is:\n"
   ]
  },
  {
   "cell_type": "markdown",
   "id": "51bd177a",
   "metadata": {},
   "source": [
    "anything that is not a valid python identifier should be removed\n",
    "\n",
    "leading and trailing whitespace should be removed\n",
    "\n",
    "everything should be lowercase\n",
    "\n",
    "spaces should be replaced with underscores\n",
    "\n",
    "for example:\n",
    "    Name will become name\n",
    "    \n",
    "    First Name will become first_name\n",
    "    \n",
    "    % Completed will become completed"
   ]
  },
  {
   "cell_type": "code",
   "execution_count": 93,
   "id": "04c2a01f",
   "metadata": {},
   "outputs": [
    {
     "name": "stdout",
     "output_type": "stream",
     "text": [
      "what would you like me to normalizehellow chris     \n"
     ]
    },
    {
     "data": {
      "text/plain": [
       "'hellow_chris'"
      ]
     },
     "execution_count": 93,
     "metadata": {},
     "output_type": "execute_result"
    }
   ],
   "source": [
    "string = input(\"what would you like me to normalize\")\n",
    "def normalize_name(x):\n",
    "    cleaned = \n",
    "        return x.strip().lower.replace(' ','_')\n",
    "normalize_name(string)\n",
    "        \n",
    "        "
   ]
  },
  {
   "cell_type": "markdown",
   "id": "18526cce",
   "metadata": {},
   "source": [
    "Write a function named cumulative_sum that accepts a list of numbers and returns a list that is the cumulative sum of the numbers in the list.\n",
    "\n",
    "cumulative_sum([1, 1, 1]) returns [1, 2, 3]\n",
    "\n",
    "cumulative_sum([1, 2, 3, 4]) returns [1, 3, 6, 10]"
   ]
  },
  {
   "cell_type": "code",
   "execution_count": null,
   "id": "a5b9ba74",
   "metadata": {},
   "outputs": [],
   "source": []
  }
 ],
 "metadata": {
  "kernelspec": {
   "display_name": "Python 3 (ipykernel)",
   "language": "python",
   "name": "python3"
  },
  "language_info": {
   "codemirror_mode": {
    "name": "ipython",
    "version": 3
   },
   "file_extension": ".py",
   "mimetype": "text/x-python",
   "name": "python",
   "nbconvert_exporter": "python",
   "pygments_lexer": "ipython3",
   "version": "3.11.5"
  }
 },
 "nbformat": 4,
 "nbformat_minor": 5
}
