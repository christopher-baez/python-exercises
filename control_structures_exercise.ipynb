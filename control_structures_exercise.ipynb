{
 "cells": [
  {
   "cell_type": "markdown",
   "id": "a2a4417e",
   "metadata": {},
   "source": [
    "Conditional Basics"
   ]
  },
  {
   "cell_type": "markdown",
   "id": "26292c0c",
   "metadata": {},
   "source": [
    "Prompt the user for a day of the week, print out whether the day is Monday or not"
   ]
  },
  {
   "cell_type": "code",
   "execution_count": 38,
   "id": "48f4a3ec",
   "metadata": {
    "scrolled": true
   },
   "outputs": [
    {
     "name": "stdout",
     "output_type": "stream",
     "text": [
      "what day of the week is it?4\n"
     ]
    }
   ],
   "source": [
    "day = input('what day of the week is it?')\n",
    "if day.lower == 'monday':\n",
    "    print(f' monday \\n')"
   ]
  },
  {
   "cell_type": "markdown",
   "id": "5c8140ec",
   "metadata": {},
   "source": [
    "Prompt the user for a day of the week, print out whether the day is a weekday or a weekend\n",
    "\n"
   ]
  },
  {
   "cell_type": "code",
   "execution_count": 14,
   "id": "9daf1b75",
   "metadata": {},
   "outputs": [
    {
     "name": "stdout",
     "output_type": "stream",
     "text": [
      "what day of the week is it?wednesday\n",
      "  its  wednesday , unfortinately its a weekday\n"
     ]
    }
   ],
   "source": [
    "weekday = ['monday', 'tuesday', 'wednesday', 'thursday', 'friday']\n",
    "weekend = ['saturday', 'sunday']\n",
    "\n",
    "day = input('what day of the week is it?')\n",
    "if day.lower() in weekday:\n",
    "    print(f\"  its  {day} , unfortinately its a weekday\")\n",
    "else:\n",
    "    print(f\" IT\\'S {day.upper()} , ITS THE WEEKEND!\")"
   ]
  },
  {
   "cell_type": "markdown",
   "id": "76a87273",
   "metadata": {},
   "source": [
    "Calculate a weekly paycheck, accounting for overtime pay. Create variables and make up values for:\n",
    "\n",
    "The number of hours worked in one week\n",
    "\n",
    "The hourly rate"
   ]
  },
  {
   "cell_type": "code",
   "execution_count": 2,
   "id": "64af8b54",
   "metadata": {},
   "outputs": [
    {
     "name": "stdout",
     "output_type": "stream",
     "text": [
      "how many hours did you work this week?40\n",
      "no overtime this week, your pay is 1800$\n"
     ]
    }
   ],
   "source": [
    "hours = int(input('how many hours did you work this week?'))\n",
    "hourly = 45\n",
    "\n",
    "if hours <= 40:\n",
    "    print(f'no overtime this week, your pay is {hours * hourly}$')\n",
    "else:\n",
    "    print(f'you collected OT, your pay is {hours * (hourly * 1.5)}$')\n"
   ]
  },
  {
   "cell_type": "markdown",
   "id": "f0bd716a",
   "metadata": {},
   "source": [
    "While\n",
    "\n",
    "Create an integer variable i with a value of 5. Create a while loop that runs so long as i is less than or equal to 15. Each loop iteration, output the current value of i, then increment i by one."
   ]
  },
  {
   "cell_type": "code",
   "execution_count": 20,
   "id": "57750e6c",
   "metadata": {},
   "outputs": [
    {
     "name": "stdout",
     "output_type": "stream",
     "text": [
      "5\n",
      "6\n",
      "7\n",
      "8\n",
      "9\n",
      "10\n",
      "11\n",
      "12\n",
      "13\n",
      "14\n",
      "15\n"
     ]
    }
   ],
   "source": [
    "i = 5\n",
    "while i <= 15:\n",
    "    print(i)\n",
    "    i += 1"
   ]
  },
  {
   "cell_type": "markdown",
   "id": "26cd437c",
   "metadata": {},
   "source": [
    "Create a while loop that will count by 2's starting with 0 and ending at 100. Follow each number with a new line.\n"
   ]
  },
  {
   "cell_type": "code",
   "execution_count": 25,
   "id": "b27a37dd",
   "metadata": {},
   "outputs": [
    {
     "name": "stdout",
     "output_type": "stream",
     "text": [
      "0\n",
      "2\n",
      "4\n",
      "6\n",
      "8\n",
      "10\n",
      "12\n",
      "14\n",
      "16\n",
      "18\n",
      "20\n",
      "22\n",
      "24\n",
      "26\n",
      "28\n",
      "30\n",
      "32\n",
      "34\n",
      "36\n",
      "38\n",
      "40\n",
      "42\n",
      "44\n",
      "46\n",
      "48\n",
      "50\n",
      "52\n",
      "54\n",
      "56\n",
      "58\n",
      "60\n",
      "62\n",
      "64\n",
      "66\n",
      "68\n",
      "70\n",
      "72\n",
      "74\n",
      "76\n",
      "78\n",
      "80\n",
      "82\n",
      "84\n",
      "86\n",
      "88\n",
      "90\n",
      "92\n",
      "94\n",
      "96\n",
      "98\n",
      "100\n"
     ]
    }
   ],
   "source": [
    "x = 0\n",
    "while x <= 100:\n",
    "    print(x)\n",
    "    x += 2"
   ]
  },
  {
   "cell_type": "markdown",
   "id": "2addb455",
   "metadata": {},
   "source": [
    "Create a while loop that starts at 2, and displays the number squared on each line while the number is less than 1,000,000. Output should equal:\n",
    "\n"
   ]
  },
  {
   "cell_type": "code",
   "execution_count": 30,
   "id": "e0e527dd",
   "metadata": {},
   "outputs": [
    {
     "name": "stdout",
     "output_type": "stream",
     "text": [
      "2\n",
      "4\n",
      "16\n",
      "256\n",
      "65536\n"
     ]
    }
   ],
   "source": [
    "x = 2\n",
    "while x <= 1000000:\n",
    "    print(x)\n",
    "    x = x**2"
   ]
  },
  {
   "cell_type": "markdown",
   "id": "e976cc31",
   "metadata": {},
   "source": [
    "Write a while loop that uses print to create the output shown below.\n",
    "\n"
   ]
  },
  {
   "cell_type": "code",
   "execution_count": 32,
   "id": "ab0083bc",
   "metadata": {},
   "outputs": [
    {
     "name": "stdout",
     "output_type": "stream",
     "text": [
      "100\n",
      "95\n",
      "90\n",
      "85\n",
      "80\n",
      "75\n",
      "70\n",
      "65\n",
      "60\n",
      "55\n",
      "50\n",
      "45\n",
      "40\n",
      "35\n",
      "30\n",
      "25\n",
      "20\n",
      "15\n",
      "10\n",
      "5\n"
     ]
    }
   ],
   "source": [
    "x = 100\n",
    "while x > 0:\n",
    "    print(x)\n",
    "    x = x-5"
   ]
  },
  {
   "cell_type": "markdown",
   "id": "e124a0cd",
   "metadata": {},
   "source": [
    "Write some code using a for loop that prompts the user for a number, then shows a multiplication table up through 10 for that number.\n",
    "\n"
   ]
  },
  {
   "cell_type": "code",
   "execution_count": 4,
   "id": "fe3f4f8d",
   "metadata": {
    "scrolled": true
   },
   "outputs": [
    {
     "name": "stdout",
     "output_type": "stream",
     "text": [
      "enter a number 5\n",
      "5 x 1 = 5\n",
      "5 x 2 = 10\n",
      "5 x 3 = 15\n",
      "5 x 4 = 20\n",
      "5 x 5 = 25\n",
      "5 x 6 = 30\n",
      "5 x 7 = 35\n",
      "5 x 8 = 40\n",
      "5 x 9 = 45\n",
      "5 x 10 = 50\n"
     ]
    }
   ],
   "source": [
    "x = int(input('enter a number '))\n",
    "\n",
    "for i in range(1, 11):\n",
    "    y = x * i\n",
    "    \n",
    "    print(f'{x} x {i} = {y}')\n"
   ]
  },
  {
   "cell_type": "markdown",
   "id": "c0fc188c",
   "metadata": {},
   "source": [
    "Create a for loop that uses print to create the output shown below.\n",
    "\n"
   ]
  },
  {
   "cell_type": "code",
   "execution_count": 5,
   "id": "34e5521e",
   "metadata": {},
   "outputs": [
    {
     "name": "stdout",
     "output_type": "stream",
     "text": [
      "1\n",
      "22\n",
      "333\n",
      "4444\n",
      "55555\n",
      "666666\n",
      "7777777\n",
      "88888888\n",
      "999999999\n"
     ]
    }
   ],
   "source": [
    "for i in range(1,10):\n",
    "    print(str(i) * i)"
   ]
  },
  {
   "cell_type": "markdown",
   "id": "b2c4807a",
   "metadata": {},
   "source": [
    "\n",
    "break and continue\n",
    "\n",
    "Write a program that prompts the user for a positive integer. Next write a loop that prints out the numbers from the number the user entered down to 1."
   ]
  },
  {
   "cell_type": "code",
   "execution_count": 9,
   "id": "038c24a3",
   "metadata": {
    "scrolled": true
   },
   "outputs": [
    {
     "name": "stdout",
     "output_type": "stream",
     "text": [
      "enter positive integer10\n",
      "10\n",
      "9\n",
      "8\n",
      "7\n",
      "6\n",
      "5\n",
      "4\n",
      "3\n",
      "2\n",
      "1\n"
     ]
    }
   ],
   "source": [
    " x = int(input('enter positive integer'))\n",
    "\n",
    "for i in range(x,0,-1):\n",
    "    print(x)\n",
    "    x -= 1\n",
    "    "
   ]
  },
  {
   "cell_type": "markdown",
   "id": "bf008037",
   "metadata": {},
   "source": [
    "The input function can be used to prompt for input and use that input in your python code. Prompt the user to enter a positive number and write a loop that counts from 0 to that number. (Hints: note that the input function returns a string, so you'll need to convert this to a numeric type.)"
   ]
  },
  {
   "cell_type": "code",
   "execution_count": 76,
   "id": "3137f64d",
   "metadata": {},
   "outputs": [
    {
     "name": "stdout",
     "output_type": "stream",
     "text": [
      "please enter a positive number: 15\n",
      "0\n",
      "1\n",
      "2\n",
      "3\n",
      "4\n",
      "5\n",
      "6\n",
      "7\n",
      "8\n",
      "9\n",
      "10\n",
      "11\n",
      "12\n",
      "13\n",
      "14\n",
      "15\n",
      "16\n"
     ]
    }
   ],
   "source": [
    "x = int(input('please enter a positive number: '))\n",
    "\n",
    "for i in range(100000):\n",
    "    print(i)\n",
    "    if i > x:\n",
    "        break"
   ]
  },
  {
   "cell_type": "markdown",
   "id": "1fc721c1",
   "metadata": {},
   "source": [
    "Prompt the user for an odd number between 1 and 50. Use a loop and a break statement to continue prompting the user if they enter invalid input. (Hint: use the isdigit method on strings to determine this). Use a loop and the continue statement to output all the odd numbers between 1 and 50,"
   ]
  },
  {
   "cell_type": "code",
   "execution_count": 64,
   "id": "b3595aba",
   "metadata": {
    "scrolled": true
   },
   "outputs": [
    {
     "name": "stdout",
     "output_type": "stream",
     "text": [
      "please enter odd number to skip: 5\n",
      "Here in an odd number: 1\n",
      "Here in an odd number: 3\n",
      "Here in an odd number: 7\n",
      "Here in an odd number: 9\n",
      "Here in an odd number: 11\n",
      "Here in an odd number: 13\n",
      "Here in an odd number: 15\n",
      "Here in an odd number: 17\n",
      "Here in an odd number: 19\n",
      "Here in an odd number: 21\n",
      "Here in an odd number: 23\n",
      "Here in an odd number: 25\n",
      "Here in an odd number: 27\n",
      "Here in an odd number: 29\n",
      "Here in an odd number: 31\n",
      "Here in an odd number: 33\n",
      "Here in an odd number: 35\n",
      "Here in an odd number: 37\n",
      "Here in an odd number: 39\n",
      "Here in an odd number: 41\n",
      "Here in an odd number: 43\n",
      "Here in an odd number: 45\n",
      "Here in an odd number: 47\n",
      "Here in an odd number: 49\n"
     ]
    }
   ],
   "source": [
    "while True:\n",
    "    x = input('please enter odd number to skip: ')\n",
    "    \n",
    "    if x.isdigit():\n",
    "        x=int(x)\n",
    "        if 1 <= x <= 50 and x % 2 == 1:\n",
    "            break\n",
    "        else:\n",
    "            print('Invalid input.Please make sure it\\'s an odd number between 1-50.\\'Please make sure it\\'s an odd number between 1-50.')\n",
    "\n",
    "    else:\n",
    "        print('Invalid input. Please enter a number.')\n",
    "\n",
    "        \n",
    "for i in range(50):\n",
    "    if i % 2 == 1 and i != x:\n",
    "        print(f'Here in an odd number: {i}')\n"
   ]
  },
  {
   "cell_type": "markdown",
   "id": "0a6ae43b",
   "metadata": {},
   "source": [
    "Fizzbuzz"
   ]
  },
  {
   "cell_type": "markdown",
   "id": "00c4e8e9",
   "metadata": {},
   "source": [
    "One of the most common interview questions for entry-level programmers is the FizzBuzz test. Developed by Imran Ghory, the test is designed to test basic looping and conditional logic skills.\n",
    "\n",
    "Write a program that prints the numbers from 1 to 100.\n",
    "\n",
    "For multiples of three print \"Fizz\" instead of the number\n",
    "\n",
    "For the multiples of five print \"Buzz\".\n",
    "\n",
    "For numbers which are multiples of both three and five print \"FizzBuzz\".\n"
   ]
  },
  {
   "cell_type": "code",
   "execution_count": 39,
   "id": "bc95a110",
   "metadata": {},
   "outputs": [
    {
     "name": "stdout",
     "output_type": "stream",
     "text": [
      "1\n",
      "2\n",
      "Fizz\n",
      "4\n",
      "Buzz\n",
      "Fizz\n",
      "7\n",
      "8\n",
      "Fizz\n",
      "Buzz\n",
      "11\n",
      "Fizz\n",
      "13\n",
      "14\n",
      "FizzBuzz\n",
      "16\n",
      "17\n",
      "Fizz\n",
      "19\n",
      "Buzz\n",
      "Fizz\n",
      "22\n",
      "23\n",
      "Fizz\n",
      "Buzz\n",
      "26\n",
      "Fizz\n",
      "28\n",
      "29\n",
      "FizzBuzz\n",
      "31\n",
      "32\n",
      "Fizz\n",
      "34\n",
      "Buzz\n",
      "Fizz\n",
      "37\n",
      "38\n",
      "Fizz\n",
      "Buzz\n",
      "41\n",
      "Fizz\n",
      "43\n",
      "44\n",
      "FizzBuzz\n",
      "46\n",
      "47\n",
      "Fizz\n",
      "49\n",
      "Buzz\n",
      "Fizz\n",
      "52\n",
      "53\n",
      "Fizz\n",
      "Buzz\n",
      "56\n",
      "Fizz\n",
      "58\n",
      "59\n",
      "FizzBuzz\n",
      "61\n",
      "62\n",
      "Fizz\n",
      "64\n",
      "Buzz\n",
      "Fizz\n",
      "67\n",
      "68\n",
      "Fizz\n",
      "Buzz\n",
      "71\n",
      "Fizz\n",
      "73\n",
      "74\n",
      "FizzBuzz\n",
      "76\n",
      "77\n",
      "Fizz\n",
      "79\n",
      "Buzz\n",
      "Fizz\n",
      "82\n",
      "83\n",
      "Fizz\n",
      "Buzz\n",
      "86\n",
      "Fizz\n",
      "88\n",
      "89\n",
      "FizzBuzz\n",
      "91\n",
      "92\n",
      "Fizz\n",
      "94\n",
      "Buzz\n",
      "Fizz\n",
      "97\n",
      "98\n",
      "Fizz\n"
     ]
    }
   ],
   "source": [
    "for i in range(1,100):\n",
    "    if i % 3 == 0 and i % 5 == 0:\n",
    "        print('FizzBuzz')\n",
    "    elif i % 3 == 0:\n",
    "        print('Fizz')\n",
    "    elif i % 5 == 0:\n",
    "        print('Buzz')\n",
    "    else:\n",
    "        print(i)"
   ]
  },
  {
   "cell_type": "markdown",
   "id": "76f388fc",
   "metadata": {},
   "source": [
    "Display a table of powers.\n",
    "\n",
    "Prompt the user to enter an integer\n",
    "\n",
    "Display a table of squares and cubes from 1 to the value entered\n",
    "\n",
    "Ask if the user wants to continue\n",
    "\n",
    "Assume that the user will enter valid data\n",
    "\n",
    "Only continue if the user agrees to\n"
   ]
  },
  {
   "cell_type": "code",
   "execution_count": 55,
   "id": "d135f899",
   "metadata": {},
   "outputs": [
    {
     "name": "stdout",
     "output_type": "stream",
     "text": [
      "please enter integer5\n",
      "\n",
      "Here is your table!\n",
      "\n",
      "number | squared | cubed\n",
      "------ | ------- | -----\n",
      "1      | 1       | 1    \n",
      "2      | 4       | 8    \n",
      "3      | 9       | 27   \n",
      "4      | 16      | 64   \n",
      "5      | 25      | 125  \n",
      "would you like to continue y/n?y\n",
      "please enter integer3\n",
      "\n",
      "Here is your table!\n",
      "\n",
      "number | squared | cubed\n",
      "------ | ------- | -----\n",
      "1      | 1       | 1    \n",
      "2      | 4       | 8    \n",
      "3      | 9       | 27   \n",
      "would you like to continue y/n?n\n"
     ]
    }
   ],
   "source": [
    " while True: \n",
    "    x = int(input('please enter integer'))\n",
    "    \n",
    "    print(\"\\nHere is your table!\\n\")\n",
    "    print(\"number | squared | cubed\")\n",
    "    print(\"------ | ------- | -----\")\n",
    "\n",
    "    for i in range(1, x+1):\n",
    "        print(f'{i:<6} | {i*i:<7} | {i**3:<5}')\n",
    "\n",
    "    cont = input('would you like to continue y/n?')\n",
    "    if cont.lower() == 'n':\n",
    "        break\n",
    "    else:\n",
    "        continue"
   ]
  },
  {
   "cell_type": "code",
   "execution_count": 58,
   "id": "73a46c96",
   "metadata": {},
   "outputs": [
    {
     "name": "stdout",
     "output_type": "stream",
     "text": [
      "Whats is your grade number 1-100: 67\n",
      "C\n",
      "would you like to continue y/n?n\n"
     ]
    }
   ],
   "source": [
    "while True:\n",
    "    grade = int(input('Whats is your grade number 1-100: '))\n",
    "    \n",
    "    if grade > 100:\n",
    "        print('invalid input')\n",
    "    elif grade >= 88:\n",
    "        print('A')\n",
    "    elif grade >= 80:\n",
    "        print('B')\n",
    "    elif grade >= 67:\n",
    "        print('C')\n",
    "    elif grade >= 60:\n",
    "        print('D')\n",
    "    elif grade >= 0:\n",
    "        print(\"F\")\n",
    "    else:\n",
    "        print('invalid input')\n",
    "    \n",
    "    cont = input('would you like to continue y/n?')\n",
    "    if cont.lower() == 'n':\n",
    "        break\n",
    "    else:\n",
    "        continue\n",
    "    \n"
   ]
  },
  {
   "cell_type": "markdown",
   "id": "13b64c8d",
   "metadata": {},
   "source": [
    "Create a list of dictionaries where each dictionary represents a book that you have read. Each dictionary in the list should have the keys title, author, and genre. Loop through the list and print out information about each book.\n",
    "\n",
    "Prompt the user to enter a genre, then loop through your books list and print out the titles of all the books in that genre."
   ]
  },
  {
   "cell_type": "code",
   "execution_count": 67,
   "id": "f0b651cf",
   "metadata": {},
   "outputs": [
    {
     "name": "stdout",
     "output_type": "stream",
     "text": [
      "{'title': 'the subtle art of not giving a F*ck', 'author': 'mark manson', 'genre': 'self-help'}\n",
      "{'title': 'Make it stick', 'author': 'Peter C. Brown', 'genre': 'study guide'}\n",
      "{'title': 'richest man in babylon', 'author': 'George Samuel Clason', 'genre': 'self-help'}\n"
     ]
    }
   ],
   "source": [
    "books = [{'title': 'the subtle art of not giving a F*ck', 'author': 'mark manson', 'genre': 'self-help'},\n",
    "         {'title': 'Make it stick', 'author': 'Peter C. Brown', 'genre': 'study guide'},\n",
    "         {'title': 'richest man in babylon', 'author': 'George Samuel Clason', 'genre': 'self-help'}]\n",
    "\n",
    "\n",
    "for book in books:\n",
    "    print(book)\n",
    "    \n"
   ]
  },
  {
   "cell_type": "code",
   "execution_count": 71,
   "id": "325eeb47",
   "metadata": {},
   "outputs": [
    {
     "name": "stdout",
     "output_type": "stream",
     "text": [
      "Enter a genre: study guide\n",
      "\n",
      "Books in the 'study guide' genre:\n",
      "Make it stick\n"
     ]
    }
   ],
   "source": [
    "\n",
    "genre_input = input(\"Enter a genre: \").lower()\n",
    "\n",
    "print(f\"\\nBooks in the '{genre_input}' genre:\")\n",
    "for book in books:\n",
    "    if book['genre'].lower() == genre_input:\n",
    "        print(book['title'])\n"
   ]
  },
  {
   "cell_type": "code",
   "execution_count": null,
   "id": "869568b2",
   "metadata": {},
   "outputs": [],
   "source": []
  }
 ],
 "metadata": {
  "kernelspec": {
   "display_name": "Python 3 (ipykernel)",
   "language": "python",
   "name": "python3"
  },
  "language_info": {
   "codemirror_mode": {
    "name": "ipython",
    "version": 3
   },
   "file_extension": ".py",
   "mimetype": "text/x-python",
   "name": "python",
   "nbconvert_exporter": "python",
   "pygments_lexer": "ipython3",
   "version": "3.11.5"
  }
 },
 "nbformat": 4,
 "nbformat_minor": 5
}
