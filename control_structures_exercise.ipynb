{
 "cells": [
  {
   "cell_type": "markdown",
   "id": "a2a4417e",
   "metadata": {},
   "source": [
    "Conditional Basics"
   ]
  },
  {
   "cell_type": "markdown",
   "id": "26292c0c",
   "metadata": {},
   "source": [
    "Prompt the user for a day of the week, print out whether the day is Monday or not"
   ]
  },
  {
   "cell_type": "code",
   "execution_count": 38,
   "id": "48f4a3ec",
   "metadata": {
    "scrolled": true
   },
   "outputs": [
    {
     "name": "stdout",
     "output_type": "stream",
     "text": [
      "what day of the week is it?4\n"
     ]
    }
   ],
   "source": [
    "day = input('what day of the week is it?')\n",
    "if day.lower == 'monday':\n",
    "    print(f' monday \\n')"
   ]
  },
  {
   "cell_type": "markdown",
   "id": "5c8140ec",
   "metadata": {},
   "source": [
    "Prompt the user for a day of the week, print out whether the day is a weekday or a weekend\n",
    "\n"
   ]
  },
  {
   "cell_type": "code",
   "execution_count": 14,
   "id": "9daf1b75",
   "metadata": {},
   "outputs": [
    {
     "name": "stdout",
     "output_type": "stream",
     "text": [
      "what day of the week is it?wednesday\n",
      "  its  wednesday , unfortinately its a weekday\n"
     ]
    }
   ],
   "source": [
    "weekday = ['monday', 'tuesday', 'wednesday', 'thursday', 'friday']\n",
    "weekend = ['saturday', 'sunday']\n",
    "\n",
    "day = input('what day of the week is it?')\n",
    "if day.lower() in weekday:\n",
    "    print(f\"  its  {day} , unfortinately its a weekday\")\n",
    "else:\n",
    "    print(f\" IT\\'S {day.upper()} , ITS THE WEEKEND!\")"
   ]
  },
  {
   "cell_type": "markdown",
   "id": "76a87273",
   "metadata": {},
   "source": [
    "Calculate a weekly paycheck, accounting for overtime pay. Create variables and make up values for:\n",
    "\n",
    "The number of hours worked in one week\n",
    "\n",
    "The hourly rate"
   ]
  },
  {
   "cell_type": "code",
   "execution_count": 16,
   "id": "64af8b54",
   "metadata": {},
   "outputs": [
    {
     "name": "stdout",
     "output_type": "stream",
     "text": [
      "how many hours did you work this week?25\n",
      "no overtime this week, your pay is 875$\n"
     ]
    }
   ],
   "source": [
    "hours = int(input('how many hours did you work this week?'))\n",
    "hourly = 35\n",
    "\n",
    "if hours <= 40:\n",
    "    print(f'no overtime this week, your pay is {hours * hourly}$')\n",
    "else:\n",
    "    print(f'you collected OT, your pay is {hours * (hourly * 1.5)}$')\n"
   ]
  },
  {
   "cell_type": "markdown",
   "id": "f0bd716a",
   "metadata": {},
   "source": [
    "While\n",
    "\n",
    "Create an integer variable i with a value of 5. Create a while loop that runs so long as i is less than or equal to 15. Each loop iteration, output the current value of i, then increment i by one."
   ]
  },
  {
   "cell_type": "code",
   "execution_count": 20,
   "id": "57750e6c",
   "metadata": {},
   "outputs": [
    {
     "name": "stdout",
     "output_type": "stream",
     "text": [
      "5\n",
      "6\n",
      "7\n",
      "8\n",
      "9\n",
      "10\n",
      "11\n",
      "12\n",
      "13\n",
      "14\n",
      "15\n"
     ]
    }
   ],
   "source": [
    "i = 5\n",
    "while i <= 15:\n",
    "    print(i)\n",
    "    i += 1"
   ]
  },
  {
   "cell_type": "markdown",
   "id": "26cd437c",
   "metadata": {},
   "source": [
    "Create a while loop that will count by 2's starting with 0 and ending at 100. Follow each number with a new line.\n"
   ]
  },
  {
   "cell_type": "code",
   "execution_count": 25,
   "id": "b27a37dd",
   "metadata": {},
   "outputs": [
    {
     "name": "stdout",
     "output_type": "stream",
     "text": [
      "0\n",
      "2\n",
      "4\n",
      "6\n",
      "8\n",
      "10\n",
      "12\n",
      "14\n",
      "16\n",
      "18\n",
      "20\n",
      "22\n",
      "24\n",
      "26\n",
      "28\n",
      "30\n",
      "32\n",
      "34\n",
      "36\n",
      "38\n",
      "40\n",
      "42\n",
      "44\n",
      "46\n",
      "48\n",
      "50\n",
      "52\n",
      "54\n",
      "56\n",
      "58\n",
      "60\n",
      "62\n",
      "64\n",
      "66\n",
      "68\n",
      "70\n",
      "72\n",
      "74\n",
      "76\n",
      "78\n",
      "80\n",
      "82\n",
      "84\n",
      "86\n",
      "88\n",
      "90\n",
      "92\n",
      "94\n",
      "96\n",
      "98\n",
      "100\n"
     ]
    }
   ],
   "source": [
    "x = 0\n",
    "while x <= 100:\n",
    "    print(x)\n",
    "    x += 2"
   ]
  },
  {
   "cell_type": "markdown",
   "id": "2addb455",
   "metadata": {},
   "source": [
    "Create a while loop that starts at 2, and displays the number squared on each line while the number is less than 1,000,000. Output should equal:\n",
    "\n"
   ]
  },
  {
   "cell_type": "code",
   "execution_count": 30,
   "id": "e0e527dd",
   "metadata": {},
   "outputs": [
    {
     "name": "stdout",
     "output_type": "stream",
     "text": [
      "2\n",
      "4\n",
      "16\n",
      "256\n",
      "65536\n"
     ]
    }
   ],
   "source": [
    "x = 2\n",
    "while x <= 1000000:\n",
    "    print(x)\n",
    "    x = x**2"
   ]
  },
  {
   "cell_type": "markdown",
   "id": "e976cc31",
   "metadata": {},
   "source": [
    "Write a while loop that uses print to create the output shown below.\n",
    "\n"
   ]
  },
  {
   "cell_type": "code",
   "execution_count": 32,
   "id": "ab0083bc",
   "metadata": {},
   "outputs": [
    {
     "name": "stdout",
     "output_type": "stream",
     "text": [
      "100\n",
      "95\n",
      "90\n",
      "85\n",
      "80\n",
      "75\n",
      "70\n",
      "65\n",
      "60\n",
      "55\n",
      "50\n",
      "45\n",
      "40\n",
      "35\n",
      "30\n",
      "25\n",
      "20\n",
      "15\n",
      "10\n",
      "5\n"
     ]
    }
   ],
   "source": [
    "x = 100\n",
    "while x > 0:\n",
    "    print(x)\n",
    "    x = x-5"
   ]
  },
  {
   "cell_type": "markdown",
   "id": "e124a0cd",
   "metadata": {},
   "source": [
    "Write some code using a for loop that prompts the user for a number, then shows a multiplication table up through 10 for that number.\n",
    "\n"
   ]
  },
  {
   "cell_type": "code",
   "execution_count": 37,
   "id": "fe3f4f8d",
   "metadata": {
    "scrolled": true
   },
   "outputs": [
    {
     "name": "stdout",
     "output_type": "stream",
     "text": [
      "enter a number 5\n",
      "1\n",
      "  ---5\n",
      "2\n",
      "  ---10\n",
      "3\n",
      "  ---15\n",
      "4\n",
      "  ---20\n",
      "5\n",
      "  ---25\n",
      "6\n",
      "  ---30\n",
      "7\n",
      "  ---35\n",
      "8\n",
      "  ---40\n",
      "9\n",
      "  ---45\n",
      "10\n",
      "  ---50\n"
     ]
    }
   ],
   "source": [
    "x = int(input('enter a number '))\n",
    "for i in range(1, 11):\n",
    "    print(i)\n",
    "    print(f'  ---{i * x}')\n"
   ]
  },
  {
   "cell_type": "markdown",
   "id": "c0fc188c",
   "metadata": {},
   "source": [
    "Create a for loop that uses print to create the output shown below.\n",
    "\n"
   ]
  },
  {
   "cell_type": "markdown",
   "id": "de5ab205",
   "metadata": {},
   "source": [
    "for i in range(1,10):\n",
    "    print(str(i) * i)"
   ]
  },
  {
   "cell_type": "markdown",
   "id": "b2c4807a",
   "metadata": {},
   "source": [
    "\n",
    "break and continue\n",
    "\n",
    "Write a program that prompts the user for a positive integer. Next write a loop that prints out the numbers from the number the user entered down to 1."
   ]
  },
  {
   "cell_type": "code",
   "execution_count": 71,
   "id": "038c24a3",
   "metadata": {
    "scrolled": true
   },
   "outputs": [
    {
     "name": "stdout",
     "output_type": "stream",
     "text": [
      "enter positive integer3\n",
      "3\n",
      "2\n",
      "1\n"
     ]
    }
   ],
   "source": [
    " x = int(input('enter positive integer'))\n",
    "\n",
    "for i in range(x,0,-1):\n",
    "    print(x)\n",
    "    x -= 1\n",
    "    "
   ]
  },
  {
   "cell_type": "markdown",
   "id": "bf008037",
   "metadata": {},
   "source": [
    "The input function can be used to prompt for input and use that input in your python code. Prompt the user to enter a positive number and write a loop that counts from 0 to that number. (Hints: note that the input function returns a string, so you'll need to convert this to a numeric type.)"
   ]
  },
  {
   "cell_type": "code",
   "execution_count": 76,
   "id": "3137f64d",
   "metadata": {},
   "outputs": [
    {
     "name": "stdout",
     "output_type": "stream",
     "text": [
      "please enter a positive number: 15\n",
      "0\n",
      "1\n",
      "2\n",
      "3\n",
      "4\n",
      "5\n",
      "6\n",
      "7\n",
      "8\n",
      "9\n",
      "10\n",
      "11\n",
      "12\n",
      "13\n",
      "14\n",
      "15\n",
      "16\n"
     ]
    }
   ],
   "source": [
    "x = int(input('please enter a positive number: '))\n",
    "\n",
    "for i in range(100000):\n",
    "    print(i)\n",
    "    if i > x:\n",
    "        break"
   ]
  },
  {
   "cell_type": "markdown",
   "id": "1fc721c1",
   "metadata": {},
   "source": [
    "Prompt the user for an odd number between 1 and 50. Use a loop and a break statement to continue prompting the user if they enter invalid input. (Hint: use the isdigit method on strings to determine this). Use a loop and the continue statement to output all the odd numbers between 1 and 50,"
   ]
  },
  {
   "cell_type": "code",
   "execution_count": 78,
   "id": "293e8758",
   "metadata": {},
   "outputs": [
    {
     "name": "stdout",
     "output_type": "stream",
     "text": [
      "please enter odd number between 1-50: 23\n",
      "0\n",
      "1\n",
      "2\n",
      "3\n",
      "4\n",
      "5\n",
      "6\n",
      "7\n",
      "8\n",
      "9\n",
      "10\n",
      "11\n",
      "12\n",
      "13\n",
      "14\n",
      "15\n",
      "16\n",
      "17\n",
      "18\n",
      "19\n",
      "20\n",
      "21\n",
      "22\n",
      "23\n",
      "24\n",
      "25\n",
      "26\n",
      "27\n",
      "28\n",
      "29\n",
      "30\n",
      "31\n",
      "32\n",
      "33\n",
      "34\n",
      "35\n",
      "36\n",
      "37\n",
      "38\n",
      "39\n",
      "40\n",
      "41\n",
      "42\n",
      "43\n",
      "44\n",
      "45\n",
      "46\n",
      "47\n",
      "48\n",
      "49\n"
     ]
    }
   ],
   "source": [
    "x = input('please enter odd number between 1-50: ')\n",
    "\n",
    "for i in range(50):\n",
    "    print(i)\n",
    "    \n",
    "    \n",
    "    "
   ]
  }
 ],
 "metadata": {
  "kernelspec": {
   "display_name": "Python 3 (ipykernel)",
   "language": "python",
   "name": "python3"
  },
  "language_info": {
   "codemirror_mode": {
    "name": "ipython",
    "version": 3
   },
   "file_extension": ".py",
   "mimetype": "text/x-python",
   "name": "python",
   "nbconvert_exporter": "python",
   "pygments_lexer": "ipython3",
   "version": "3.11.5"
  }
 },
 "nbformat": 4,
 "nbformat_minor": 5
}
